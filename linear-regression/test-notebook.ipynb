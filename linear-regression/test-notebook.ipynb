{
 "cells": [
  {
   "cell_type": "code",
   "execution_count": null,
   "metadata": {},
   "outputs": [],
   "source": []
  }
 ],
 "metadata": {
  "kernelspec": {
   "display_name": "env",
   "language": "python",
   "name": "python3"
  },
  "language_info": {
   "name": "python",
   "version": "3.9.6"
  },
  "orig_nbformat": 4,
  "vscode": {
   "interpreter": {
    "hash": "ed3f58b02eb42b4f973859bb1baf5afc89381529da2f65ef9fffaaa43a61b6a0"
   }
  }
 },
 "nbformat": 4,
 "nbformat_minor": 2
}
