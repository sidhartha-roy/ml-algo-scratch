{
 "cells": [
  {
   "cell_type": "markdown",
   "metadata": {},
   "source": [
    "# Logistic Regressionfrom Scratch\n",
    "  \n",
    "  ### Main components of a Logistic Regression Code\n",
    "  1. __Data__: Make sure the input data is in the right format for the Algorithm\n",
    "  \n",
    "  \n",
    "  2. __Propagate__: Takes in the weights, X, and y andreturns the gradients and cost function\n",
    "  \n",
    "  \n",
    "  3. __Optimize__: This function takes in the X,y data, initialized weights, and number of iterations, and learening rate and returns the updated weights.\n",
    "  \n",
    "  \n",
    "  4. __Predict__: This function predicts the y given, X,w, and b\n",
    "  \n",
    "  \n",
    "  5. __Model__: This is like a sklearn model, takes in X_train,y_train, X_test, y_test and hyperparameters and returns the updated weights and predictions."
   ]
  },
  {
   "cell_type": "code",
   "execution_count": 52,
   "metadata": {},
   "outputs": [],
   "source": [
    "# Libraries\n",
    "import tensorflow as tf\n",
    "import matplotlib.pyplot as plt\n",
    "import numpy as np\n",
    "import random\n",
    "\n",
    "%matplotlib inline"
   ]
  },
  {
   "cell_type": "code",
   "execution_count": 28,
   "metadata": {},
   "outputs": [],
   "source": [
    "# Download the dataset\n",
    "(x_train_raw, y_train_raw), (x_test_raw, y_test_raw) = tf.keras.datasets.mnist.load_data()"
   ]
  },
  {
   "cell_type": "code",
   "execution_count": 29,
   "metadata": {},
   "outputs": [],
   "source": [
    "def display_image(image_index, X, y):\n",
    "    if image_index > len(y):\n",
    "        raise IndexError('Index out of range: Index should be between 0 and {}'.format(len(y)))\n",
    "    print(y[image_index])\n",
    "    plt.imshow(X[image_index], cmap='Greys')"
   ]
  },
  {
   "cell_type": "code",
   "execution_count": 30,
   "metadata": {},
   "outputs": [
    {
     "name": "stdout",
     "output_type": "stream",
     "text": [
      "7\n"
     ]
    },
    {
     "data": {
      "image/png": "[encoded data removed]",
      "text/plain": [
       "<Figure size 432x288 with 1 Axes>"
      ]
     },
     "metadata": {
      "needs_background": "light"
     },
     "output_type": "display_data"
    }
   ],
   "source": [
    "display_image(5000, x_train_raw, y_train_raw)"
   ]
  },
  {
   "cell_type": "code",
   "execution_count": 31,
   "metadata": {},
   "outputs": [],
   "source": [
    "# Create a dataset for 5 vs non-5 classifier\n",
    "y_train = [y==5 for y in y_train_raw]\n",
    "y_test = [y==5 for y in y_test_raw]"
   ]
  },
  {
   "cell_type": "code",
   "execution_count": 42,
   "metadata": {},
   "outputs": [],
   "source": [
    "# Number of training and testing examples\n",
    "m_train = x_train.shape[0]\n",
    "m_test = x_test.shape[0]"
   ]
  },
  {
   "cell_type": "code",
   "execution_count": 45,
   "metadata": {},
   "outputs": [
    {
     "name": "stdout",
     "output_type": "stream",
     "text": [
      "(784, 60000)\n",
      "(784, 10000)\n"
     ]
    }
   ],
   "source": [
    "# create the X_train matrix\n",
    "x_train_flat = x_train.reshape(m_train,-1).T\n",
    "print(x_train_flat.shape)\n",
    "x_test_flat = x_test.reshape(m_test,-1).T\n",
    "print(x_test_flat.shape)"
   ]
  },
  {
   "cell_type": "code",
   "execution_count": 50,
   "metadata": {},
   "outputs": [
    {
     "name": "stdout",
     "output_type": "stream",
     "text": [
      "X training image values .... [0.         0.99215686 0.99607843 ... 0.         0.         0.57647059]\n",
      "X testing image values .... [0.99607843 0.         0.         ... 0.11764706 0.99607843 0.        ]\n"
     ]
    }
   ],
   "source": [
    "# normalize the pixels\n",
    "x_train_set = x_train_flat/255\n",
    "x_test_set = x_test_flat/255\n",
    "\n",
    "print(\"X training image values ....\",x_train_set[300])\n",
    "print(\"X testing image values ....\",x_test_set[300])"
   ]
  },
  {
   "cell_type": "markdown",
   "metadata": {},
   "source": [
    "## 3 - General Architecture of the learning algorithm ##\n",
    "\n",
    "It's time to design a simple algorithm to distinguish cat images from non-cat images.\n",
    "\n",
    "You will build a Logistic Regression, using a Neural Network mindset. The following Figure explains why **Logistic Regression is actually a very simple Neural Network!**\n",
    "\n",
    "\n",
    "**Mathematical expression of the algorithm**:\n",
    "\n",
    "For one example $x^{(i)}$:\n",
    "$$z^{(i)} = w^T x^{(i)} + b \\tag{1}$$\n",
    "$$\\hat{y}^{(i)} = a^{(i)} = sigmoid(z^{(i)})\\tag{2}$$ \n",
    "$$ \\mathcal{L}(a^{(i)}, y^{(i)}) =  - y^{(i)}  \\log(a^{(i)}) - (1-y^{(i)} )  \\log(1-a^{(i)})\\tag{3}$$\n",
    "\n",
    "The cost is then computed by summing over all training examples:\n",
    "$$ J = \\frac{1}{m} \\sum_{i=1}^m \\mathcal{L}(a^{(i)}, y^{(i)})\\tag{6}$$\n",
    "\n",
    "**Key steps**:\n",
    "In this exercise, you will carry out the following steps: \n",
    "    - Initialize the parameters of the model\n",
    "    - Learn the parameters for the model by minimizing the cost  \n",
    "    - Use the learned parameters to make predictions (on the test set)\n",
    "    - Analyse the results and conclude"
   ]
  },
  {
   "cell_type": "code",
   "execution_count": 54,
   "metadata": {},
   "outputs": [],
   "source": [
    "# Initialize Weights\n",
    "\n",
    "def initialize_weights(dim, init_type=0):\n",
    "    \"\"\"\n",
    "    This function simply takes in the dimension of the feature vector to intiaize weights\n",
    "    init_type: 0 means zero initializetion\n",
    "               1 means random initialization\n",
    "    \"\"\"\n",
    "    \n",
    "    if init_type == 0:\n",
    "        w = np.zeros((dim,1))\n",
    "        b = 0\n",
    "    else:\n",
    "        w = np.random.rand(dim,1)\n",
    "        b = random.random()\n",
    "        \n",
    "    return w, b"
   ]
  },
  {
   "cell_type": "code",
   "execution_count": 57,
   "metadata": {},
   "outputs": [],
   "source": [
    "def sigmoid(z):\n",
    "    return 1/(1+np.exp(-z))"
   ]
  },
  {
   "cell_type": "code",
   "execution_count": 59,
   "metadata": {},
   "outputs": [],
   "source": [
    "def propagate_gradients(w, b, X, y):\n",
    "    \"\"\"\n",
    "    Arguments:\n",
    "    w -- weights, a numpy array of size (num_px * num_px * 3, 1)\n",
    "    b -- bias, a scalar\n",
    "    X -- data of size (num_px * num_px * 3, number of examples)\n",
    "    Y -- true \"label\" vector (containing 0 if non-cat, 1 if cat) of size (1, number of examples)\n",
    "\n",
    "    Return:\n",
    "    cost -- negative log-likelihood cost for logistic regression\n",
    "    dw -- gradient of the loss with respect to w, thus same shape as w\n",
    "    db -- gradient of the loss with respect to b, thus same shape as b\n",
    "    \"\"\"\n",
    "    \n",
    "    num_samples = X.shape[0]\n",
    "    \n",
    "    A = sigmoid( np.dot(w.T,X) + b )\n",
    "    \n",
    "    ylogA = np.multiply(y,np.log(A))\n",
    "    _1_ylog1_A = (1-y)*np.log(1-A)\n",
    "    \n",
    "    LogLoss = ylogA + _1_ylog1_A\n",
    "    cost = (1/num_samples)*np.sum(LogLoss)\n",
    "    \n",
    "    dw = (1/m)*np.dot(X, (A-Y).T)\n",
    "    db = (1/m)*np.sum(A-Y)\n",
    "    \n",
    "    \n",
    "    return A"
   ]
  },
  {
   "cell_type": "code",
   "execution_count": 73,
   "metadata": {},
   "outputs": [
    {
     "name": "stdout",
     "output_type": "stream",
     "text": [
      "[0.5 0.5 0.5 ... 0.5 0.5 0.5]\n"
     ]
    }
   ],
   "source": [
    "w, b = initialize_weights(784, 0)\n",
    "A = propagate_gradients(w, b, x_test_set, y_test)\n",
    "print(A[0])"
   ]
  },
  {
   "cell_type": "code",
   "execution_count": null,
   "metadata": {},
   "outputs": [],
   "source": []
  },
  {
   "cell_type": "code",
   "execution_count": null,
   "metadata": {},
   "outputs": [],
   "source": []
  }
 ],
 "metadata": {
  "kernelspec": {
   "display_name": "Python 3",
   "language": "python",
   "name": "python3"
  },
  "language_info": {
   "codemirror_mode": {
    "name": "ipython",
    "version": 3
   },
   "file_extension": ".py",
   "mimetype": "text/x-python",
   "name": "python",
   "nbconvert_exporter": "python",
   "pygments_lexer": "ipython3",
   "version": "3.7.4"
  }
 },
 "nbformat": 4,
 "nbformat_minor": 2
}
